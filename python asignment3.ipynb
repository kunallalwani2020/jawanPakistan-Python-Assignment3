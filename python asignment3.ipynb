{
 "cells": [
  {
   "cell_type": "code",
   "execution_count": 5,
   "id": "5de87a3c",
   "metadata": {},
   "outputs": [
    {
     "name": "stdout",
     "output_type": "stream",
     "text": [
      "Twinkle,twinkle,little star,\n",
      " \t How I wonder what you are!\n",
      "\t\t Up above the world so high,\n",
      "\t\t Like a diamond in the sky.\n",
      " Twinkle,twinkle, little star,\n",
      "\t How I wonder what you are \n"
     ]
    }
   ],
   "source": [
    "\"\"\"1. Write a Python program to print the following string in a specific format (see the\n",
    "output).\n",
    "\n",
    "Twinkle, twinkle, little star,\n",
    "How I wonder what you are!\n",
    "Up above the world so high,\n",
    "Like a diamond in the sky.\n",
    "\n",
    "Twinkle, twinkle, little star,\n",
    "How I wonder what you are\"\"\"\n",
    "\n",
    "\n",
    "print(\"Twinkle,twinkle,little star,\\n \\t How I wonder what you are!\\n\\t\\t Up above the world so high,\\n\\t\\t Like a diamond in the sky.\\n Twinkle,twinkle, little star,\\n\\t How I wonder what you are \")"
   ]
  },
  {
   "cell_type": "code",
   "execution_count": 6,
   "id": "2ecdc108",
   "metadata": {},
   "outputs": [
    {
     "name": "stdout",
     "output_type": "stream",
     "text": [
      "Python vesrion\n",
      "3.8.8 (default, Apr 13 2021, 15:08:03) [MSC v.1916 64 bit (AMD64)]\n",
      "Python version info\n",
      "sys.version_info(major=3, minor=8, micro=8, releaselevel='final', serial=0)\n"
     ]
    }
   ],
   "source": [
    "\"\"\"2. Write a Python program to get the Python version you are using\"\"\"\n",
    "import sys\n",
    "print(\"Python vesrion\")\n",
    "print(sys.version)\n",
    "print (\"Python version info\")\n",
    "print(sys.version_info)"
   ]
  },
  {
   "cell_type": "code",
   "execution_count": 13,
   "id": "0a6a2392",
   "metadata": {},
   "outputs": [
    {
     "name": "stdout",
     "output_type": "stream",
     "text": [
      "Today's date is 2021-10-23\n",
      "Datetime from timestamp: 2029-10-25 21:17:48\n"
     ]
    }
   ],
   "source": [
    "\"3.Write a Python program to display the current date and time.\"\n",
    "from datetime import date \n",
    "from datetime import datetime\n",
    "today = date.today()\n",
    "print(\"Today's date is\", today)\n",
    "date_time = datetime.fromtimestamp(1887639468)\n",
    "print(\"Datetime from timestamp:\", date_time)"
   ]
  },
  {
   "cell_type": "code",
   "execution_count": 18,
   "id": "d5dc4518",
   "metadata": {},
   "outputs": [
    {
     "name": "stdout",
     "output_type": "stream",
     "text": [
      "Enter the radius of circle7\n",
      "Circle of Area is 153.93804002591\n"
     ]
    }
   ],
   "source": [
    "\"\"\"4.Write a Python program which accepts the radius of a circle from the user and compute\n",
    "the area.\"\"\"\n",
    "radius= int(input(\"Enter the radius of circle\"))\n",
    "area = 3.14159265359*radius**2\n",
    "print(\"Area of circle is\", area)"
   ]
  },
  {
   "cell_type": "code",
   "execution_count": 22,
   "id": "06be19d7",
   "metadata": {},
   "outputs": [
    {
     "name": "stdout",
     "output_type": "stream",
     "text": [
      "Enter your first namekunal\n",
      "Enter your last namelalwani\n",
      "kunallalwani\n",
      "Reverse order inawlallanuk\n"
     ]
    }
   ],
   "source": [
    "\"\"\"5.Write a Python program which accepts the user's first and last name and print them in\n",
    "reverse order with a space between them.\"\"\"\n",
    "firstName = input(\"Enter your first name\")\n",
    "lastName = input(\"Enter your last name\")\n",
    "reverse = firstName + lastName;\n",
    "print (reverse)\n",
    "print(\"Reverse order\",reverse[::- 1 ])"
   ]
  },
  {
   "cell_type": "code",
   "execution_count": 23,
   "id": "a8f9a384",
   "metadata": {},
   "outputs": [
    {
     "name": "stdout",
     "output_type": "stream",
     "text": [
      "Enter the first number12\n",
      "Enter the second number21\n",
      "Sum of two number is  33\n"
     ]
    }
   ],
   "source": [
    "\"\"\"6.Write a python program which takes two inputs from user and print them addition\"\"\"\n",
    "a = int(input(\"Enter the first number \"))\n",
    "b = int(input(\"Enter the second number \"))\n",
    "sum = a+b;\n",
    "print(\"Sum of two number is \",sum)"
   ]
  },
  {
   "cell_type": "code",
   "execution_count": 45,
   "id": "a43badb5",
   "metadata": {},
   "outputs": [
    {
     "name": "stdout",
     "output_type": "stream",
     "text": [
      "Enter the english marks\t40\n",
      "Enter the math marks\t40\n",
      "Enter the Physics marks\t40\n",
      "Enter the Chemistry marks\t40\n",
      "Enter the computer science marks\t40\n",
      "Obtained Marks 200\n",
      "Total Marks 500\n",
      "Percentage 40.0\n",
      "Fail\n"
     ]
    }
   ],
   "source": [
    "\"\"\"7.Write a program which takes 5 inputs from user for different subject’s marks, total it\n",
    "and generate mark sheet using grades ?\"\"\"\n",
    "\n",
    "English = int(input(\"Enter the english marks\\t\"))\n",
    "Math = int(input(\"Enter the math marks\\t\"))\n",
    "Physics = int(input(\"Enter the Physics marks\\t\"))\n",
    "Chemistry = int(input(\"Enter the Chemistry marks\\t\"))\n",
    "computerScience = int(input(\"Enter the computer science marks\\t\"))\n",
    "Sum= English+Math+Physics+Chemistry+computerScience;\n",
    "print(\"Obtained Marks\" ,Sum)\n",
    "print(\"Total Marks 500\")\n",
    "avg = Sum/500*100;\n",
    "print(\"Percentage\",avg)\n",
    "if avg>=90 and avg<=100:\n",
    "    print(\"Grade A-1\")\n",
    "elif avg>=70 and avg<=80:\n",
    "    print(\"Grade A\")\n",
    "elif avg>=70 and avg<=60:\n",
    "    print(\"Grade B\")\n",
    "elif avg>=60 and avg<=50:\n",
    "    print (\"Garde C\")\n",
    "elif avg>=50 and avg<=40:\n",
    "    print (\"Garde D\")\n",
    "else:\n",
    "    print(\"Fail\")"
   ]
  },
  {
   "cell_type": "code",
   "execution_count": 50,
   "id": "f000408d",
   "metadata": {},
   "outputs": [
    {
     "name": "stdout",
     "output_type": "stream",
     "text": [
      "Enter the any number I'll check number is even or odd7\n",
      "Odd number 7\n"
     ]
    }
   ],
   "source": [
    "\"\"\"8.Write a program which take input from user and identify that the given number is even\n",
    "or odd?\"\"\"\n",
    "even = int(input(\"Enter the any number I'll check number is even or odd\"))\n",
    "if(even%2)==0:\n",
    "    print(\"Even number\",even)\n",
    "else:\n",
    "    print(\"Odd number\",even)"
   ]
  },
  {
   "cell_type": "code",
   "execution_count": 1,
   "id": "bcc18aff",
   "metadata": {},
   "outputs": [
    {
     "name": "stdout",
     "output_type": "stream",
     "text": [
      "Length of list is 5\n"
     ]
    }
   ],
   "source": [
    "\"\"\"9.Write a program which print the length of the list?\"\"\"\n",
    "list =[1,1,\"kunal\",\"lalwani\",2]\n",
    "print(\"Length of list is\",len(list))"
   ]
  },
  {
   "cell_type": "code",
   "execution_count": 9,
   "id": "23e5f687",
   "metadata": {},
   "outputs": [
    {
     "name": "stdout",
     "output_type": "stream",
     "text": [
      "How many numbers: 2\n",
      "Enter number 14\n",
      "Enter number 1\n",
      "Sum of elements in given list is : 15\n"
     ]
    }
   ],
   "source": [
    "\"\"\"10.Write a Python program to sum all the numeric items in a list?\"\"\"\n",
    "lst = []\n",
    "num = int(input('How many numbers: '))\n",
    "for n in range(num):\n",
    "    numbers = int(input('Enter number '))\n",
    "    lst.append(numbers)\n",
    "print(\"Sum of elements in given list is :\", sum(lst))\n"
   ]
  },
  {
   "cell_type": "code",
   "execution_count": 11,
   "id": "cf17ff52",
   "metadata": {},
   "outputs": [
    {
     "name": "stdout",
     "output_type": "stream",
     "text": [
      "How many numbers: 5\n",
      "Enter number 32\n",
      "Enter number 17\n",
      "Enter number 100\n",
      "Enter number 54\n",
      "Enter number 90\n",
      "Sum of elements in given list is : 100\n"
     ]
    }
   ],
   "source": [
    "\"11.Write a Python program to get the largest number from a numeric list.\"\n",
    "lst = []\n",
    "num = int(input('How many numbers: '))\n",
    "for n in range(num):\n",
    "    numbers = int(input('Enter number '))\n",
    "    lst.append(numbers)\n",
    "print(\"largest number in given list is :\", max(lst))"
   ]
  },
  {
   "cell_type": "code",
   "execution_count": 15,
   "id": "ebd17d66",
   "metadata": {},
   "outputs": [
    {
     "name": "stdout",
     "output_type": "stream",
     "text": [
      "4\n",
      "1\n",
      "1\n",
      "2\n",
      "3\n"
     ]
    }
   ],
   "source": [
    "\"\"\"12. Take a list, say for example this one:\n",
    "a = [1, 1, 2, 3, 5, 8, 13, 21, 34, 55, 89]\n",
    "Write a program that prints out all the elements of the list that are less than 5.\"\"\"\n",
    "a=[4,1,1,2,3,5,8,13,21,34,55,89]\n",
    "for element in a:\n",
    "    if(int(element)<5):\n",
    "        print(element)"
   ]
  },
  {
   "cell_type": "code",
   "execution_count": null,
   "id": "9b8e24f0",
   "metadata": {},
   "outputs": [],
   "source": []
  }
 ],
 "metadata": {
  "kernelspec": {
   "display_name": "Python 3",
   "language": "python",
   "name": "python3"
  },
  "language_info": {
   "codemirror_mode": {
    "name": "ipython",
    "version": 3
   },
   "file_extension": ".py",
   "mimetype": "text/x-python",
   "name": "python",
   "nbconvert_exporter": "python",
   "pygments_lexer": "ipython3",
   "version": "3.8.8"
  }
 },
 "nbformat": 4,
 "nbformat_minor": 5
}
